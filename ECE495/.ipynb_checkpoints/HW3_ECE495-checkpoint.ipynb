{
 "cells": [
  {
   "cell_type": "markdown",
   "id": "f87d190d-11a7-42c3-b8d4-241ee9207ad2",
   "metadata": {},
   "source": [
    "# HW3 ECE 495"
   ]
  },
  {
   "cell_type": "markdown",
   "id": "aaeb2318-7500-467e-9366-41ae82568591",
   "metadata": {},
   "source": [
    "## Tyler Klimas"
   ]
  },
  {
   "cell_type": "markdown",
   "id": "05f021f5-db6b-427c-acad-d7a9f4a7931f",
   "metadata": {},
   "source": [
    "### Problem 1  "
   ]
  },
  {
   "cell_type": "code",
   "execution_count": 28,
   "id": "9b911a3b-1fce-4567-bef7-787534697d99",
   "metadata": {},
   "outputs": [],
   "source": [
    "from sklearn import datasets\n",
    "from sklearn.model_selection import train_test_split\n",
    "from types import SimpleNamespace\n",
    "\n",
    "digits = datasets.load_digits()\n",
    "mask = (digits.target == 4) | (digits.target == 9)\n",
    "x_filtered = digits.data[mask]\n",
    "y_filtered = digits.target[mask]\n",
    "\n",
    "y_filtered = (y_filtered == 9).astype(int)\n",
    "\n",
    "x_train, x_test, y_train, y_test = train_test_split(\n",
    "    digits.data, digits.target, train_size=900, shuffle=False\n",
    ")\n",
    "mnist = SimpleNamespace(\n",
    "    train=SimpleNamespace(x=x_train, y=y_train),\n",
    "    test=SimpleNamespace(x=x_test, y=y_test)\n",
    ")"
   ]
  },
  {
   "cell_type": "code",
   "execution_count": 29,
   "id": "f1a4843d-727b-40f0-a426-4999a3c8f1c3",
   "metadata": {},
   "outputs": [
    {
     "name": "stdout",
     "output_type": "stream",
     "text": [
      "(900, 64)\n",
      "(900,)\n"
     ]
    },
    {
     "data": {
      "text/plain": [
       "(None, None)"
      ]
     },
     "execution_count": 29,
     "metadata": {},
     "output_type": "execute_result"
    }
   ],
   "source": [
    "print(mnist.train.x.shape), print(mnist.train.y.shape)"
   ]
  },
  {
   "cell_type": "code",
   "execution_count": 30,
   "id": "acb0554e-cbbb-4766-b487-d08081fe7683",
   "metadata": {},
   "outputs": [
    {
     "data": {
      "image/png": "[encoded data removed]",
      "text/plain": [
       "<Figure size 700x100 with 10 Axes>"
      ]
     },
     "metadata": {},
     "output_type": "display_data"
    }
   ],
   "source": [
    "import matplotlib.pyplot as plt\n",
    "%matplotlib inline\n",
    "\n",
    "axes = plt.subplots(nrows=1, ncols=10, figsize=(7, 1))[1]\n",
    "for ax, image, label in zip(axes, digits.images, digits.target):\n",
    "    ax.set_axis_off()\n",
    "    ax.imshow(image, cmap=plt.cm.gray_r, interpolation=\"nearest\")\n",
    "    ax.set_title(str(label))"
   ]
  },
  {
   "cell_type": "code",
   "execution_count": 31,
   "id": "c0b18368-986d-46f5-8875-2e7d773dcb7d",
   "metadata": {},
   "outputs": [],
   "source": [
    "import torch\n",
    "import torch.nn as nn\n",
    "import torch.optim as optim\n",
    "from torchvision import datasets, transforms\n",
    "from torch.utils.data import DataLoader, TensorDataset"
   ]
  },
  {
   "cell_type": "code",
   "execution_count": 32,
   "id": "c4a9a71a-dc5e-4210-8eed-f95a3a99c70e",
   "metadata": {},
   "outputs": [],
   "source": [
    "x_train, y_train = torch.tensor(mnist.train.x, dtype=torch.float32), y_train_tensor = torch.tensor(mnist.train.y, dtype=torch.float32)\n",
    "x_test, y_test = torch.tensor(mnist.test.x, dtype=torch.float32), torch.tensor(mnist.test.y, dtype=torch.float32)"
   ]
  },
  {
   "cell_type": "code",
   "execution_count": 34,
   "id": "7037b893-8af0-4d00-8588-fd9b3937a48f",
   "metadata": {},
   "outputs": [],
   "source": [
    "train_dataset = TensorDataset(x_train_tensor, y_train_tensor)\n",
    "test_dataset = TensorDataset(x_test_tensor, y_test_tensor)\n",
    "\n",
    "train_loader = DataLoader(train_dataset, batch_size=64, shuffle=True)\n",
    "test_loader = DataLoader(test_dataset, batch_size=64, shuffle=False)"
   ]
  },
  {
   "cell_type": "code",
   "execution_count": 38,
   "id": "f2eae79c-e040-464b-b1c6-f53cd192740e",
   "metadata": {},
   "outputs": [],
   "source": [
    "logistic_regression = nn.Sequential(nn.Linear(64, 1), nn.Sigmoid())\n",
    "loss_function = nn.BCELoss()\n",
    "grad_update = optim.Adam(logistic_regression.parameters(), lr=0.01)"
   ]
  },
  {
   "cell_type": "code",
   "execution_count": null,
   "id": "9ab1c0c6-ab3d-4821-b919-d57f89ead0a6",
   "metadata": {},
   "outputs": [],
   "source": [
    "def train_model(logistic_regression, train_loader, loss_function, grad_update, num_epochs=10):\n",
    "    model.train()\n",
    "    for epoch in range(num_epochs):\n",
    "        running_loss = 0.0\n",
    "        for images, labels in train_loader:\n",
    "            optimizer.zero_grad()\n",
    "            outputs = model(images).squeeze()  # Get the output and squeeze for BCELoss compatibility\n",
    "            loss = criterion(outputs, labels.float())  # Convert labels to float for BCELoss\n",
    "            loss.backward()\n",
    "            optimizer.step()\n",
    "            running_loss += loss.item()\n",
    "        print(f'Epoch [{epoch+1}/{num_epochs}], Loss: {running_loss/len(train_loader):.4f}')"
   ]
  }
 ],
 "metadata": {
  "kernelspec": {
   "display_name": "Python 3 (ipykernel)",
   "language": "python",
   "name": "python3"
  },
  "language_info": {
   "codemirror_mode": {
    "name": "ipython",
    "version": 3
   },
   "file_extension": ".py",
   "mimetype": "text/x-python",
   "name": "python",
   "nbconvert_exporter": "python",
   "pygments_lexer": "ipython3",
   "version": "3.12.5"
  }
 },
 "nbformat": 4,
 "nbformat_minor": 5
}
