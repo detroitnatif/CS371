{
 "cells": [
  {
   "cell_type": "markdown",
   "id": "f87d190d-11a7-42c3-b8d4-241ee9207ad2",
   "metadata": {},
   "source": [
    "# HW3 ECE 495"
   ]
  },
  {
   "cell_type": "markdown",
   "id": "aaeb2318-7500-467e-9366-41ae82568591",
   "metadata": {},
   "source": [
    "## Tyler Klimas"
   ]
  },
  {
   "cell_type": "markdown",
   "id": "05f021f5-db6b-427c-acad-d7a9f4a7931f",
   "metadata": {},
   "source": [
    "### Problem 1  "
   ]
  },
  {
   "cell_type": "markdown",
   "id": "76ce4fde-295b-4fc0-9ef7-5146670de2d4",
   "metadata": {},
   "source": [
    "#### import the mini MNIST dataset using sklearns datasets package, this dataset being 8 x 8 images with 900 samples"
   ]
  },
  {
   "cell_type": "code",
   "execution_count": 58,
   "id": "9b911a3b-1fce-4567-bef7-787534697d99",
   "metadata": {},
   "outputs": [
    {
     "data": {
      "image/png": "[encoded data removed]",
      "text/plain": [
       "<Figure size 700x100 with 10 Axes>"
      ]
     },
     "metadata": {},
     "output_type": "display_data"
    }
   ],
   "source": [
    "from sklearn import datasets as skdatasets\n",
    "from sklearn.model_selection import train_test_split\n",
    "from types import SimpleNamespace\n",
    "\n",
    "digits = skdatasets.load_digits()\n",
    "import matplotlib.pyplot as plt\n",
    "%matplotlib inline\n",
    "\n",
    "axes = plt.subplots(nrows=1, ncols=10, figsize=(7, 1))[1]\n",
    "for ax, image, label in zip(axes, digits.images, digits.target):\n",
    "    ax.set_axis_off()\n",
    "    ax.imshow(image, cmap=plt.cm.gray_r, interpolation=\"nearest\")\n",
    "    ax.set_title(str(label))"
   ]
  },
  {
   "cell_type": "markdown",
   "id": "7c50ae7d-279e-43a4-b06a-dea4e5cec625",
   "metadata": {},
   "source": [
    "#### In this problem we are only interested in 4 and 9, so using a mask which converts the labels to 0 and 1. This shrinks the dataset to 361 samples. After this we normalize the values by dividing by 16 to get the pixel values between 0 and 1. "
   ]
  },
  {
   "cell_type": "code",
   "execution_count": 2,
   "id": "f1a4843d-727b-40f0-a426-4999a3c8f1c3",
   "metadata": {},
   "outputs": [
    {
     "name": "stdout",
     "output_type": "stream",
     "text": [
      "(361, 64)\n",
      "(361,)\n"
     ]
    },
    {
     "data": {
      "text/plain": [
       "(None, None)"
      ]
     },
     "execution_count": 2,
     "metadata": {},
     "output_type": "execute_result"
    }
   ],
   "source": [
    "binary_conversion = (digits.target == 4) | (digits.target == 9)\n",
    "x_binary = digits.data[binary_conversion]\n",
    "y_binary = (digits.target[binary_conversion] == 9).astype(int)\n",
    "\n",
    "x_binary /= 16.0\n",
    "\n",
    "print(x_binary.shape),print(y_binary.shape)"
   ]
  },
  {
   "cell_type": "code",
   "execution_count": 3,
   "id": "c0b18368-986d-46f5-8875-2e7d773dcb7d",
   "metadata": {},
   "outputs": [],
   "source": [
    "import torch\n",
    "import torch.nn as nn\n",
    "import torch.optim as optim\n",
    "from torchvision import datasets, transforms\n",
    "from torch.utils.data import DataLoader, TensorDataset\n",
    "from sklearn.metrics import confusion_matrix, classification_report\n",
    "import numpy as np"
   ]
  },
  {
   "cell_type": "markdown",
   "id": "7bc5fd16-e5e4-4176-96cf-c037419ea7f2",
   "metadata": {},
   "source": [
    "#### I split the dataset into 60% training and 40% testing data, and then cast the values from arrays into torch.tensors which allow me to use PyTorch linear models"
   ]
  },
  {
   "cell_type": "code",
   "execution_count": 4,
   "id": "c4a9a71a-dc5e-4210-8eed-f95a3a99c70e",
   "metadata": {},
   "outputs": [
    {
     "name": "stdout",
     "output_type": "stream",
     "text": [
      "Training label distribution: [112 104]\n",
      "Testing label distribution: [69 76]\n"
     ]
    }
   ],
   "source": [
    "x_train, x_test, y_train, y_test = train_test_split(x_binary, y_binary, train_size=0.6, shuffle=True)\n",
    "x_train, y_train = torch.tensor(x_train, dtype=torch.float32), torch.tensor(y_train, dtype=torch.float32)\n",
    "x_test, y_test = torch.tensor(x_test, dtype=torch.float32), torch.tensor(y_test, dtype=torch.float32)\n",
    "\n",
    "print(f\"Training label distribution: {np.bincount(y_train.int().numpy())}\")\n",
    "print(f\"Testing label distribution: {np.bincount(y_test.int().numpy())}\")\n"
   ]
  },
  {
   "cell_type": "markdown",
   "id": "d4aba5a1-ad41-45d9-a09f-908d49537da0",
   "metadata": {},
   "source": [
    "#### I created the Logistic regression model here, a very simple linear layer which takes 64 inputs (pixel values of the image vector) and outputs a weighted sum with the weights plus a bias\n",
    "\n",
    "#### After this, I use binary cross entropy loss with logits loss, a PyTorch package which applies the sigmoid function that outputs a \"Probability\" between 0 and 1.\n",
    "\n",
    "#### I also create the optimizer function Adam which adjusts the weights of the model to minimize the loss function using back propogation. Adam is superior to SGD because it applies adaptive learning rates to each parameter. "
   ]
  },
  {
   "cell_type": "code",
   "execution_count": 13,
   "id": "f2eae79c-e040-464b-b1c6-f53cd192740e",
   "metadata": {},
   "outputs": [],
   "source": [
    "logistic_regression = nn.Linear(64, 1)\n",
    "loss_function = nn.BCEWithLogitsLoss()\n",
    "grad_update = optim.Adam(logistic_regression.parameters(), lr=0.01)"
   ]
  },
  {
   "cell_type": "markdown",
   "id": "e8ee93fe-3fc2-4474-831c-38af5ab6915f",
   "metadata": {},
   "source": [
    "#### Training for 25 epochs with the Algoritm: Set the gradient to 0, predict the outputs, calculate the loss, backpropgate the loss, and then update the gradient"
   ]
  },
  {
   "cell_type": "code",
   "execution_count": 14,
   "id": "9ab1c0c6-ab3d-4821-b919-d57f89ead0a6",
   "metadata": {},
   "outputs": [
    {
     "name": "stdout",
     "output_type": "stream",
     "text": [
      "4, 0.503761351108551\n",
      "9, 0.39291465282440186\n",
      "14, 0.31064847111701965\n",
      "19, 0.2509492337703705\n",
      "24, 0.20787371695041656\n"
     ]
    }
   ],
   "source": [
    "for epoch in range(25):\n",
    "    grad_update.zero_grad()\n",
    "    y_pred = logistic_regression(x_train).squeeze()\n",
    "    loss = loss_function(y_pred, y_train)\n",
    "    loss.backward()\n",
    "    grad_update.step()\n",
    "    if (epoch + 1) % 5 == 0:\n",
    "        print(f'{epoch}, {loss.item()}')"
   ]
  },
  {
   "cell_type": "markdown",
   "id": "d9344ab9-4463-4a0f-a630-7b62786d91cc",
   "metadata": {},
   "source": [
    "#### Here we test the model, achieving 98% accuracy "
   ]
  },
  {
   "cell_type": "code",
   "execution_count": 15,
   "id": "ab347a89-fdb7-4b3f-97d3-fb7960523885",
   "metadata": {},
   "outputs": [
    {
     "name": "stdout",
     "output_type": "stream",
     "text": [
      "Test Accuracy: 98.62%\n",
      "[[69  0]\n",
      " [ 2 74]]\n"
     ]
    }
   ],
   "source": [
    "with torch.no_grad():\n",
    "    y_pred = torch.sigmoid(logistic_regression(x_test)).squeeze().round()\n",
    "    accuracy = (y_pred == y_test).float().mean().item()\n",
    "    print(f'Test Accuracy: {accuracy * 100:.2f}%')\n",
    "    y_pred_np = y_pred.numpy()\n",
    "    y_test_np = y_test.numpy()\n",
    "    print(confusion_matrix(y_test_np, y_pred_np))"
   ]
  },
  {
   "cell_type": "code",
   "execution_count": 16,
   "id": "aea5240c-728d-4141-bb51-056cf383737a",
   "metadata": {},
   "outputs": [
    {
     "data": {
      "image/png": "[encoded data removed]",
      "text/plain": [
       "<Figure size 640x480 with 1 Axes>"
      ]
     },
     "metadata": {},
     "output_type": "display_data"
    }
   ],
   "source": [
    "weights = logistic_regression.weight.detach().numpy().reshape(8, 8)\n",
    "\n",
    "plt.imshow(weights, cmap='seismic')\n",
    "plt.title('Visualized Weights for Binary Logistic Regression')\n",
    "plt.show()"
   ]
  },
  {
   "cell_type": "markdown",
   "id": "d524a5e0-b780-4c95-a7fe-5fe743ae49e9",
   "metadata": {},
   "source": [
    "## Problem 2"
   ]
  },
  {
   "cell_type": "markdown",
   "id": "dc57ec4b-4104-43bd-857e-686edc50ce90",
   "metadata": {},
   "source": [
    "#### This is a very similar problem, except we are introducing a hidden layer of weights to further train our model. I created a Multi Layer Perceptron with 64 hidden weights, and trained it for only 10 epochs to achieve 99% accuracy on the test set. "
   ]
  },
  {
   "cell_type": "code",
   "execution_count": 29,
   "id": "a3f95a12-cb90-4ed7-993c-2b20c8f902c7",
   "metadata": {},
   "outputs": [],
   "source": [
    "class MLP(nn.Module):\n",
    "    def __init__(self, input_size, d1):\n",
    "        super(MLP, self).__init__()\n",
    "        self.layer1 = nn.Linear(input_size, d1)  \n",
    "        self.layer2 = nn.Linear(d1, 1) \n",
    "    \n",
    "    def forward(self, x):\n",
    "        x = torch.tanh(self.layer1(x)) \n",
    "        x = torch.sigmoid(self.layer2(x))\n",
    "        return x"
   ]
  },
  {
   "cell_type": "code",
   "execution_count": 30,
   "id": "a788a3c8-629d-494a-a007-9d353f14ce14",
   "metadata": {},
   "outputs": [],
   "source": [
    "MLP_model = MLP(64, 64)\n",
    "MLP_loss_function = nn.BCELoss()\n",
    "MlP_grad_update = optim.Adam(MLP_model.parameters(), lr=0.01)"
   ]
  },
  {
   "cell_type": "markdown",
   "id": "12faa4ee-01c3-4704-8d09-8d394326d1b8",
   "metadata": {},
   "source": [
    "#### Training for only 10 epochs because of the improved model with the Algoritm: Set the gradient to 0, predict the outputs (Binary Cross Entropy loss applies softmax function), calculate the loss, backpropgate the loss, and then update the gradient"
   ]
  },
  {
   "cell_type": "code",
   "execution_count": 31,
   "id": "b438ced2-804f-4378-941d-86b7a40958fa",
   "metadata": {},
   "outputs": [
    {
     "name": "stdout",
     "output_type": "stream",
     "text": [
      "Epoch:  0 Loss:  0.6906428337097168\n",
      "Epoch:  1 Loss:  0.5667757987976074\n",
      "Epoch:  2 Loss:  0.46636220812797546\n",
      "Epoch:  3 Loss:  0.37334734201431274\n",
      "Epoch:  4 Loss:  0.2877691388130188\n",
      "Epoch:  5 Loss:  0.21673795580863953\n",
      "Epoch:  6 Loss:  0.1634313315153122\n",
      "Epoch:  7 Loss:  0.12519778311252594\n",
      "Epoch:  8 Loss:  0.0982280820608139\n",
      "Epoch:  9 Loss:  0.07967284321784973\n"
     ]
    }
   ],
   "source": [
    "NUM_EPOCHS = 10\n",
    "\n",
    "for epoch in range(NUM_EPOCHS):\n",
    "    MlP_grad_update.zero_grad()\n",
    "    y_pred = MLP_model(x_train).squeeze()\n",
    "    loss = MLP_loss_function(y_pred, y_train)\n",
    "    loss.backward()\n",
    "    MlP_grad_update.step()\n",
    "    if (epoch) % (NUM_EPOCHS * .1) == 0:\n",
    "        print(\"Epoch: \", epoch, \"Loss: \", loss.item())"
   ]
  },
  {
   "cell_type": "code",
   "execution_count": 32,
   "id": "808c4194-eddd-4401-ba11-417504c73185",
   "metadata": {},
   "outputs": [
    {
     "name": "stdout",
     "output_type": "stream",
     "text": [
      "Test Accuracy: 99.31%\n"
     ]
    }
   ],
   "source": [
    "with torch.no_grad():\n",
    "    y_pred = MLP_model(x_test).squeeze().round()\n",
    "    print(f'Test Accuracy: {(y_pred == y_test).float().mean() * 100:.2f}%')"
   ]
  },
  {
   "cell_type": "markdown",
   "id": "bcf72bca-fb12-410d-9092-11aa0f5e2a13",
   "metadata": {},
   "source": [
    "## Question 3"
   ]
  },
  {
   "cell_type": "markdown",
   "id": "7508b73a-d24b-44aa-8ab2-e4d21c1b1483",
   "metadata": {},
   "source": [
    "#### This problem is very similar to the previous, but rather than a binary classification, we are predicting one of the possible classes (K=10). This is done by outputting 10 logits from the model, and these are then projected into probabilites by the CrossEntropyLoss applying softmax to them. This then calculates the loss from the model outputs and labels, and calculates the gradients of the function using backpropogation. The Adam optimizer then updates the gradients. Adam is superior to SGD because it applies adaptive learning rates to each parameter.¶"
   ]
  },
  {
   "cell_type": "code",
   "execution_count": 64,
   "id": "bdcd8786-c2c8-4ea4-a7b6-c941537dcfd5",
   "metadata": {},
   "outputs": [
    {
     "name": "stdout",
     "output_type": "stream",
     "text": [
      "Training label distribution: [105 115  98 109 120 110 104 104  99 114]\n",
      "Testing label distribution: [73 67 79 74 61 72 77 75 75 66]\n"
     ]
    }
   ],
   "source": [
    "all_digits = skdatasets.load_digits()\n",
    "x_train, x_test, y_train, y_test = train_test_split(digits.data, digits.target, train_size=0.6, shuffle=True)\n",
    "x_train, y_train = torch.tensor(x_train, dtype=torch.float32), torch.tensor(y_train, dtype=torch.float32)\n",
    "x_test, y_test = torch.tensor(x_test, dtype=torch.float32), torch.tensor(y_test, dtype=torch.float32)\n",
    "\n",
    "print(f\"Training label distribution: {np.bincount(y_train.int().numpy())}\")\n",
    "print(f\"Testing label distribution: {np.bincount(y_test.int().numpy())}\")"
   ]
  },
  {
   "cell_type": "code",
   "execution_count": 65,
   "id": "8e7305b1-daab-4046-a7b9-ecdb4a05920c",
   "metadata": {},
   "outputs": [],
   "source": [
    "class MultiClassModel(nn.Module):\n",
    "    def __init__(self, input_size, hidden_size, output_size):\n",
    "        super(MultiClassModel, self).__init__()\n",
    "        self.layer1 = nn.Linear(input_size, hidden_size)\n",
    "        self.layer2 = nn.Linear(hidden_size, output_size)\n",
    "    \n",
    "    def forward(self, x):\n",
    "        x = torch.relu(self.layer1(x))\n",
    "        return self.layer2(x)"
   ]
  },
  {
   "cell_type": "markdown",
   "id": "ccd1a19d-d8f6-4d2e-906f-28aae9ebc81a",
   "metadata": {},
   "source": [
    "#### Output size is 10 because there are 10 layers"
   ]
  },
  {
   "cell_type": "code",
   "execution_count": 78,
   "id": "fca6962c-4ce7-4478-be52-f8cd75e575ea",
   "metadata": {},
   "outputs": [],
   "source": [
    "input_size = 8 * 8\n",
    "hidden_size = 64\n",
    "output_size = 10 "
   ]
  },
  {
   "cell_type": "code",
   "execution_count": 79,
   "id": "913cc6c4-e904-4be4-8d4d-937151f75d2d",
   "metadata": {},
   "outputs": [],
   "source": [
    "multi_class_model = MultiClassModel(input_size, hidden_size, output_size)\n",
    "multi_class_loss_function = nn.CrossEntropyLoss()\n",
    "multi_class_optimizer = optim.Adam(multi_class_model.parameters(), lr=0.001)"
   ]
  },
  {
   "cell_type": "code",
   "execution_count": 80,
   "id": "6793a7ef-bc1a-4edd-888e-f367b152fc52",
   "metadata": {},
   "outputs": [
    {
     "name": "stdout",
     "output_type": "stream",
     "text": [
      "Epoch:  0 Loss:  3.3536570072174072\n",
      "Epoch:  10 Loss:  1.836267113685608\n",
      "Epoch:  20 Loss:  1.0036484003067017\n",
      "Epoch:  30 Loss:  0.5789918899536133\n",
      "Epoch:  40 Loss:  0.38111424446105957\n",
      "Epoch:  50 Loss:  0.2778187692165375\n",
      "Epoch:  60 Loss:  0.21646779775619507\n",
      "Epoch:  70 Loss:  0.17653240263462067\n",
      "Epoch:  80 Loss:  0.14847517013549805\n",
      "Epoch:  90 Loss:  0.12766075134277344\n"
     ]
    }
   ],
   "source": [
    "NUM_EPOCHS = 100\n",
    "for epoch in range(NUM_EPOCHS):\n",
    "    multi_class_optimizer.zero_grad()\n",
    "    y_pred = multi_class_model(x_train.view(-1, 64)) \n",
    "    loss = multi_class_loss_function(y_pred, y_train.long())\n",
    "    loss.backward()\n",
    "    multi_class_optimizer.step()\n",
    "    if (epoch) % (NUM_EPOCHS * .1) == 0:\n",
    "        print(\"Epoch: \", epoch, \"Loss: \", loss.item())"
   ]
  },
  {
   "cell_type": "markdown",
   "id": "7919fa6a-d1d6-427f-aa79-2035da452ed7",
   "metadata": {},
   "source": [
    "#### We observe 94% accuracy after training the model for 100 epochs. It is noted that this is not using batches, but the entirety of the dataset. This problem is relativelty easy and our training set is not that large, but we would employ some sort of batch logic in order to update the gradients after only calculating a portion of the training set. "
   ]
  },
  {
   "cell_type": "code",
   "execution_count": 82,
   "id": "1633e465-6295-4327-b13b-f01a6d1e8e78",
   "metadata": {},
   "outputs": [
    {
     "name": "stdout",
     "output_type": "stream",
     "text": [
      "Test Accuracy: 94.71%\n"
     ]
    }
   ],
   "source": [
    "with torch.no_grad():\n",
    "    y_pred = multi_class_model(x_test.view(-1, 64))\n",
    "    correct = (torch.argmax(y_pred, dim=1) == y_test).sum().item()\n",
    "    accuracy = 100 * correct / len(y_test)\n",
    "    print(f'Test Accuracy: {accuracy:.2f}%')"
   ]
  },
  {
   "cell_type": "code",
   "execution_count": 77,
   "id": "b6824f9b-eda9-488e-9839-994322f70076",
   "metadata": {},
   "outputs": [
    {
     "data": {
      "image/png": "[encoded data removed]",
      "text/plain": [
       "<Figure size 1000x200 with 5 Axes>"
      ]
     },
     "metadata": {},
     "output_type": "display_data"
    }
   ],
   "source": [
    "import matplotlib.pyplot as plt\n",
    "\n",
    "def show_test_samples(model, x_test, y_test, num_samples=5):\n",
    "    with torch.no_grad():\n",
    "        indices = torch.randint(0, len(x_test), (num_samples,))\n",
    "        x_samples = x_test[indices]\n",
    "        y_true = y_test[indices]\n",
    "        \n",
    "        y_pred = model(x_samples.view(-1, 8 * 8))  \n",
    "        predicted_labels = torch.argmax(y_pred, dim=1)\n",
    "\n",
    "        fig, axs = plt.subplots(1, num_samples, figsize=(num_samples * 2, 2))\n",
    "        for i in range(num_samples):\n",
    "            axs[i].imshow(x_samples[i].view(8, 8), cmap='gray')  \n",
    "            axs[i].set_title(f'Pred: {predicted_labels[i].item()}\\nTrue: {y_true[i].item()}')\n",
    "            axs[i].axis('off')  \n",
    "        plt.show()\n",
    "\n",
    "show_test_samples(multi_class_model, x_test, y_test, num_samples=5)\n"
   ]
  }
 ],
 "metadata": {
  "kernelspec": {
   "display_name": "Python 3 (ipykernel)",
   "language": "python",
   "name": "python3"
  },
  "language_info": {
   "codemirror_mode": {
    "name": "ipython",
    "version": 3
   },
   "file_extension": ".py",
   "mimetype": "text/x-python",
   "name": "python",
   "nbconvert_exporter": "python",
   "pygments_lexer": "ipython3",
   "version": "3.12.5"
  }
 },
 "nbformat": 4,
 "nbformat_minor": 5
}
