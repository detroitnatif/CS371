{
 "cells": [
  {
   "cell_type": "markdown",
   "id": "a8e74f09-9301-41bc-9f91-271579937b82",
   "metadata": {},
   "source": [
    "# HW4 \n",
    "\n",
    "### Tyler Klimas"
   ]
  },
  {
   "cell_type": "code",
   "execution_count": null,
   "id": "1421442e-46af-432d-b04b-1c9d7c7fbe3f",
   "metadata": {},
   "outputs": [],
   "source": [
    "# !pip install transformers datasets\n",
    "# !pip install torch"
   ]
  },
  {
   "cell_type": "code",
   "execution_count": 1,
   "id": "ddc2c417-287a-4a0d-855e-a352b74147fe",
   "metadata": {},
   "outputs": [
    {
     "name": "stderr",
     "output_type": "stream",
     "text": [
      "/opt/anaconda3/envs/compsci371/lib/python3.12/site-packages/tqdm/auto.py:21: TqdmWarning: IProgress not found. Please update jupyter and ipywidgets. See https://ipywidgets.readthedocs.io/en/stable/user_install.html\n",
      "  from .autonotebook import tqdm as notebook_tqdm\n"
     ]
    }
   ],
   "source": [
    "import torch\n",
    "import torch.nn as nn\n",
    "import torch.optim as optim\n",
    "from datasets import load_dataset\n",
    "from transformers import AutoModelForSequenceClassification, AutoTokenizer, AdamW\n",
    "from torch.utils.data import DataLoader\n",
    "from transformers import BertTokenizer"
   ]
  },
  {
   "cell_type": "markdown",
   "id": "d4ef39ab-ef75-42c5-b30f-605e4b378ee2",
   "metadata": {},
   "source": [
    "### Import the Dataset, and create training and testing splits. Here I am only using 5% of the entire corpus for each respective training and testing, as the original dataset contains 560,000 samples, and I choose to work with 28,000 (My computer is not that powerful!)\n",
    "### In order to scale this to a very large K, vertical scaling (Powerful GPU) or horizontal scaling (Distributed Training) can be employed while batching the data as large as possible to fit on a GPU is how this would be done.\n",
    "### I am using BertTokenizer from huggingface, which breaks the corpus of text into words and subwords, and maps them to corresponding numerical IDs.\n",
    "### I reveal that the vocab size is 30,522"
   ]
  },
  {
   "cell_type": "code",
   "execution_count": 6,
   "id": "a3d7ca4e-5d58-449f-a92e-3c9907ae3f52",
   "metadata": {},
   "outputs": [
    {
     "name": "stdout",
     "output_type": "stream",
     "text": [
      "Original training set size: 560000\n",
      "Smaller training set size (5% of original): 28000\n"
     ]
    },
    {
     "name": "stderr",
     "output_type": "stream",
     "text": [
      "Map: 100%|████████████████████████| 28000/28000 [00:51<00:00, 545.05 examples/s]"
     ]
    },
    {
     "name": "stdout",
     "output_type": "stream",
     "text": [
      "Vocab Size: 30522\n"
     ]
    },
    {
     "name": "stderr",
     "output_type": "stream",
     "text": [
      "\n"
     ]
    }
   ],
   "source": [
    "sentiment = load_dataset(\"yelp_polarity\")\n",
    "tr = sentiment['train']\n",
    "print(f\"Original training set size: {len(tr)}\")\n",
    "ts = sentiment['test']\n",
    "tr = tr.train_test_split(test_size=0.95)['train']\n",
    "print(f\"Smaller training set size (5% of original): {len(tr)}\")\n",
    "ts = ts.train_test_split(test_size=0.95)['train']\n",
    "\n",
    "\n",
    "tokenizer = BertTokenizer.from_pretrained('bert-base-uncased')\n",
    "\n",
    "def tokenize_function(data):\n",
    "    return tokenizer(data['text'], padding='max_length', truncation=True)\n",
    "\n",
    "tokenized_dataset = tr.map(tokenize_function, batched=True)\n",
    "\n",
    "word_count = tokenizer.vocab_size\n",
    "print(\"Vocab Size:\", word_count)"
   ]
  },
  {
   "cell_type": "markdown",
   "id": "781b3895-20dd-4976-90ef-d9e497a6972c",
   "metadata": {},
   "source": [
    "### Example of what the tokenizer returns"
   ]
  },
  {
   "cell_type": "code",
   "execution_count": 7,
   "id": "8260c5ce-b6e6-445b-9cb9-5cdfc72ad8c1",
   "metadata": {},
   "outputs": [
    {
     "data": {
      "text/plain": [
       "{'input_ids': [101, 17953, 2361, 2003, 4569, 999, 102], 'token_type_ids': [0, 0, 0, 0, 0, 0, 0], 'attention_mask': [1, 1, 1, 1, 1, 1, 1]}"
      ]
     },
     "execution_count": 7,
     "metadata": {},
     "output_type": "execute_result"
    }
   ],
   "source": [
    "tokenizer(\"NLP is fun!\")"
   ]
  },
  {
   "cell_type": "markdown",
   "id": "a5271040-bd84-468c-a3d4-ec35cf612209",
   "metadata": {},
   "source": [
    "### Here I load the datasets into DataLoader objects which make it possible to batch the data in the training phase."
   ]
  },
  {
   "cell_type": "code",
   "execution_count": 8,
   "id": "a5f86443-8819-44d3-ba9e-e716dc6410b3",
   "metadata": {},
   "outputs": [
    {
     "name": "stderr",
     "output_type": "stream",
     "text": [
      "Map: 100%|██████████████████████████| 1900/1900 [00:03<00:00, 539.21 examples/s]\n"
     ]
    }
   ],
   "source": [
    "batch_size = 8\n",
    "\n",
    "tr = tr.map(tokenize_function, batched=True)\n",
    "tr.set_format(type='torch', columns=['input_ids', 'attention_mask', 'label'])\n",
    "tr_loader = DataLoader(tr, batch_size=batch_size, shuffle=True)\n",
    "\n",
    "ts = ts.map(tokenize_function, batched=True)\n",
    "ts.set_format(type='torch', columns=['input_ids', 'attention_mask', 'label'])\n",
    "ts_loader = DataLoader(ts, batch_size=batch_size, shuffle=False)"
   ]
  },
  {
   "cell_type": "markdown",
   "id": "84765c9e-342b-4db7-91c9-2c11c2c75a03",
   "metadata": {},
   "source": [
    "### This is our model, which uses a word embedding layer to represent each word in a 10 dimensional vector, and then is averaged together across all embeddings in the sentence to form a single vector. Finally the vector is fed forward into a fully connected layer which outputs one logit, representing Positive or Negative sentiment."
   ]
  },
  {
   "cell_type": "code",
   "execution_count": 9,
   "id": "54a2cb4d-0b23-4691-8cfd-ad1a0118b2d6",
   "metadata": {},
   "outputs": [],
   "source": [
    "class LinearRegression(nn.Module):\n",
    "    def __init__(self, word_count, embedding_dim):\n",
    "        super(LinearRegression, self).__init__()\n",
    "        self.embed_words = nn.Embedding(word_count, embedding_dim)  \n",
    "        self.layer1 = nn.Linear(embedding_dim, 1)\n",
    "\n",
    "    def forward(self, x):\n",
    "        embedded = self.embed_words(x) \n",
    "        avg_embedding = embedded.mean(dim=1) \n",
    "        out = self.layer1(avg_embedding) \n",
    "        return out  "
   ]
  },
  {
   "cell_type": "code",
   "execution_count": 10,
   "id": "ec9e5f1c-166a-4b05-87b1-a585c4b46473",
   "metadata": {},
   "outputs": [],
   "source": [
    "embedding_dim = 10 "
   ]
  },
  {
   "cell_type": "markdown",
   "id": "9e87ed0a-c7fd-472d-b4dc-10c5d2b76a21",
   "metadata": {},
   "source": [
    "### Using Adam, our gradient descent converges much faster as each parameters gradient is updated dynamically. Binary Cross Entropy Loss is a suitable loss function for binary classification as it computes the Sigmoid non-linearity internally"
   ]
  },
  {
   "cell_type": "code",
   "execution_count": 11,
   "id": "0773acd0-fcd7-4710-877b-ab98eccc506f",
   "metadata": {},
   "outputs": [],
   "source": [
    "model = LinearRegression(word_count, embedding_dim)\n",
    "stepper = optim.Adam(model.parameters(), lr=0.001)\n",
    "loss_function = nn.BCEWithLogitsLoss()"
   ]
  },
  {
   "cell_type": "markdown",
   "id": "ec4f43bb-e82e-4563-a15b-749736d5efc1",
   "metadata": {},
   "source": [
    "### This is the function which trains the model, for each epoch, it trains on a batch of data (8 in this case) by setting the gradient to 0, getting the outputs from the function, calculating the loss, backpropogating, and then adjusting the weights against the gradient.\n"
   ]
  },
  {
   "cell_type": "markdown",
   "id": "2d4d93dd-cf45-4e4f-a853-3bc28630120d",
   "metadata": {},
   "source": [
    "### Cost Function\n",
    "\n",
    "$$\n",
    "\\mathcal{J}(\\mathbf{W}, b) = \\frac{1}{N} \\sum_{i=1}^{N} \\left( \\log(1 + e^{z^{(i)}}) - y^{(i)} z^{(i)} \\right)\n",
    "$$\n",
    "\n",
    "### Logit\n",
    "\n",
    "$$\n",
    "z^{(i)} = \\mathbf{W} \\cdot \\mathbf{x}^{(i)} + b\n",
    "$$\n",
    "\n",
    "### Gradient of Loss w.r.t Logit \\( z \\)\n",
    "\n",
    "$$\n",
    "\\frac{\\partial \\mathcal{L}(y, z)}{\\partial z} = \\sigma(z) - y\n",
    "$$\n",
    "\n",
    "\n",
    "$$\n",
    "\\sigma(z) = \\frac{1}{1 + e^{-z}}\n",
    "$$\n",
    "\n",
    "### Gradient of Cost Function w.r.t Weights \\( \\mathbf{W} \\)\n",
    "\n",
    "$$\n",
    "\\frac{\\partial \\mathcal{J}}{\\partial \\mathbf{W}} = \\frac{1}{N} \\sum_{i=1}^{N} \\left( \\sigma(z^{(i)}) - y^{(i)} \\right) \\mathbf{x}^{(i)}\n",
    "$$\n",
    "\n",
    "### Gradient of Cost Function w.r.t Bias \\( b \\)\n",
    "\n",
    "$$\n",
    "\\frac{\\partial \\mathcal{J}}{\\partial b} = \\frac{1}{N} \\sum_{i=1}^{N} \\left( \\sigma(z^{(i)}) - y^{(i)} \\right)\n",
    "$$\n"
   ]
  },
  {
   "cell_type": "code",
   "execution_count": 19,
   "id": "a51afc58-e762-4786-bb4a-10c71ed5faec",
   "metadata": {},
   "outputs": [],
   "source": [
    "def forward_pass(model, dataloader, stepper, loss_function, iterations=10):\n",
    "    model.train()\n",
    "    for e in range(iterations):\n",
    "        total_loss = 0\n",
    "        for sample in dataloader:\n",
    "            stepper.zero_grad()\n",
    "            outputs = model(sample['input_ids']).squeeze()\n",
    "            loss = loss_function(outputs, sample['label'].float())\n",
    "            loss.backward()\n",
    "            stepper.step()\n",
    "            total_loss = total_loss + loss.item()\n",
    "        \n",
    "        print('Epoch:', e, \"Loss:\", total_loss/len(dataloader))"
   ]
  },
  {
   "cell_type": "markdown",
   "id": "1557d1f9-e770-417b-aad3-ea1b6fc56965",
   "metadata": {},
   "source": [
    "### After 10 epochs, the loss function is stabilizing and returning decent scores."
   ]
  },
  {
   "cell_type": "code",
   "execution_count": 13,
   "id": "b493282f-ffd5-4348-a303-d3da0d3a6982",
   "metadata": {},
   "outputs": [
    {
     "name": "stdout",
     "output_type": "stream",
     "text": [
      "Epoch: 0 Loss: 0.6610657504371235\n",
      "Epoch: 1 Loss: 0.5467668408879212\n",
      "Epoch: 2 Loss: 0.4331878859826497\n",
      "Epoch: 3 Loss: 0.358958236616637\n",
      "Epoch: 4 Loss: 0.3104096944667399\n",
      "Epoch: 5 Loss: 0.2774354569560715\n",
      "Epoch: 6 Loss: 0.25361801139744267\n",
      "Epoch: 7 Loss: 0.23587282697537115\n",
      "Epoch: 8 Loss: 0.22162704635278455\n",
      "Epoch: 9 Loss: 0.20961055909017368\n"
     ]
    }
   ],
   "source": [
    "forward_pass(model, tr_loader, stepper, loss_function, 10)"
   ]
  },
  {
   "cell_type": "markdown",
   "id": "2baf9554-ba61-4a7d-8f5b-a9dd123218c3",
   "metadata": {},
   "source": [
    "### Testing the model after training"
   ]
  },
  {
   "cell_type": "code",
   "execution_count": 16,
   "id": "202afe1e-d58b-4d47-80fb-c58b8527f1fc",
   "metadata": {},
   "outputs": [],
   "source": [
    "import numpy as np\n",
    "\n",
    "def test_model(model, dataloader):\n",
    "    model.eval()\n",
    "    accurate = 0\n",
    "    amt = 0\n",
    "    \n",
    "    with torch.no_grad():\n",
    "        for sample in dataloader:\n",
    "            outputs = model(sample['input_ids']).squeeze()\n",
    "            predicted = (outputs > 0.5).float()\n",
    "            accurate += (predicted == sample['label']).sum().item()\n",
    "            amt += sample['label'].size(0)\n",
    "    \n",
    "    \n",
    "    print(\"Amount Correct:\", np.round((accurate / amt) * 100, 2), '%')"
   ]
  },
  {
   "cell_type": "markdown",
   "id": "f15ae900-3058-4bb2-99dc-ca0a8ad3a35a",
   "metadata": {},
   "source": [
    "### 90% accuracy"
   ]
  },
  {
   "cell_type": "code",
   "execution_count": 17,
   "id": "613363ea-52a4-4772-bfda-797be70cbbe1",
   "metadata": {},
   "outputs": [
    {
     "name": "stdout",
     "output_type": "stream",
     "text": [
      "Amount Correct: 90.16 %\n"
     ]
    }
   ],
   "source": [
    "test_model(model, ts_loader)"
   ]
  },
  {
   "cell_type": "markdown",
   "id": "50b273cb-1a92-4f20-8d86-04e9b4015c79",
   "metadata": {},
   "source": [
    "### This is a histogram of all the embeddings learned. As you can see, the majority of words fall around the origin, with only a few words having large absolute values. The words near 0 have little influence on the model (is, are, a, etc.) and the words with large embeddings have magnitude that indicate the strength or importance of the feature."
   ]
  },
  {
   "cell_type": "code",
   "execution_count": 18,
   "id": "455741bd-f44c-4319-8c32-ecdd539acab4",
   "metadata": {},
   "outputs": [
    {
     "data": {
      "image/png": "[encoded data removed]",
      "text/plain": [
       "<Figure size 1000x600 with 1 Axes>"
      ]
     },
     "metadata": {},
     "output_type": "display_data"
    }
   ],
   "source": [
    "import matplotlib.pyplot as plt\n",
    "\n",
    "\n",
    "embeddings = model.embed_words.weight.data\n",
    "plt.figure(figsize=(10, 6))\n",
    "plt.hist(embeddings.flatten(), bins=70, color='red')\n",
    "plt.title(\"Learned Word Embeddings\")\n",
    "plt.xlabel(\"Embeddings\")\n",
    "plt.ylabel(\"Counts\")\n",
    "plt.show()"
   ]
  },
  {
   "cell_type": "markdown",
   "id": "2468d1e0-9e99-4e4e-98e7-e265d1717c3a",
   "metadata": {},
   "source": [
    "### We can see clearly the words with the largest magnitude are going to be the words which make the review positive or negative. We are averaging the entirety of the word vectors for each sentence, so one of these words will influence the models final output."
   ]
  },
  {
   "cell_type": "code",
   "execution_count": 24,
   "id": "e34a7b15-5cf9-4637-ba47-2e4299a512c1",
   "metadata": {},
   "outputs": [
    {
     "name": "stdout",
     "output_type": "stream",
     "text": [
      "['worst'], Value: 109.76428985595703\n",
      "['horrible'], Value: 99.1498794555664\n",
      "['terrible'], Value: 92.29383850097656\n",
      "['great'], Value: 90.35585021972656\n",
      "['delicious'], Value: 89.29381561279297\n",
      "['amazing'], Value: 85.99119567871094\n",
      "['awesome'], Value: 85.5875015258789\n",
      "['excellent'], Value: 82.70612335205078\n",
      "['bland'], Value: 81.29125213623047\n",
      "['rude'], Value: 78.89187622070312\n",
      "['awful'], Value: 73.00436401367188\n",
      "['perfect'], Value: 69.47359466552734\n",
      "['loved'], Value: 69.26802825927734\n",
      "['##cre'], Value: 67.69816589355469\n",
      "['best'], Value: 65.74842834472656\n",
      "['fantastic'], Value: 65.7218017578125\n",
      "['definitely'], Value: 64.94883728027344\n",
      "['gross'], Value: 64.86540222167969\n",
      "['poor'], Value: 64.17562103271484\n",
      "['ok'], Value: 63.89420700073242\n"
     ]
    }
   ],
   "source": [
    "embeddings = model.embed_words.weight.data\n",
    "abs_embeddings = embeddings.abs()\n",
    "word_scores = abs_embeddings.sum(dim=1)\n",
    "top_n = 20\n",
    "top_indices = torch.topk(word_scores, top_n).indices\n",
    "\n",
    "for idx in top_indices:\n",
    "    print(f\"{tokenizer.convert_ids_to_tokens([idx.item()])}, Value: {word_scores[idx].item()}\")"
   ]
  },
  {
   "cell_type": "code",
   "execution_count": null,
   "id": "b7c218fc-f788-4546-84ee-95ba31aa5388",
   "metadata": {},
   "outputs": [],
   "source": []
  },
  {
   "cell_type": "code",
   "execution_count": null,
   "id": "f8c5d249-a23e-4274-8d14-206b4c128ceb",
   "metadata": {},
   "outputs": [],
   "source": []
  },
  {
   "cell_type": "code",
   "execution_count": null,
   "id": "21277eaf-ab1d-4886-9a74-f62cba289eea",
   "metadata": {},
   "outputs": [],
   "source": []
  },
  {
   "cell_type": "markdown",
   "id": "1beadbac-43af-4de2-bc51-7b60f045a6a8",
   "metadata": {},
   "source": [
    "# This was my attempt to use pretrained models from huggingface rather than my own PyTorch model, to no avail"
   ]
  },
  {
   "cell_type": "code",
   "execution_count": 2,
   "id": "4e4cfea2-d94a-48e2-8937-a2177062d9fe",
   "metadata": {},
   "outputs": [],
   "source": [
    "sentiment = load_dataset(\"yelp_polarity\")\n",
    "tr = sentiment['train']\n",
    "ts = sentiment['test']\n",
    "tr = tr.train_test_split(test_size=0.97)['train']\n",
    "ts = ts.train_test_split(test_size=0.97)['train']"
   ]
  },
  {
   "cell_type": "code",
   "execution_count": 3,
   "id": "3f39e610-7ba3-48f4-aa9e-0cdb4b0d4b02",
   "metadata": {},
   "outputs": [
    {
     "name": "stderr",
     "output_type": "stream",
     "text": [
      "/opt/anaconda3/envs/compsci371/lib/python3.12/site-packages/transformers/tokenization_utils_base.py:1617: FutureWarning: `clean_up_tokenization_spaces` was not set. It will be set to `True` by default. This behavior will be deprecated in transformers v4.45, and will be then set to `False` by default. For more details check this issue: https://github.com/huggingface/transformers/issues/31884\n",
      "  warnings.warn(\n",
      "Some weights of BertForSequenceClassification were not initialized from the model checkpoint at bert-base-uncased and are newly initialized: ['classifier.bias', 'classifier.weight']\n",
      "You should probably TRAIN this model on a down-stream task to be able to use it for predictions and inference.\n"
     ]
    }
   ],
   "source": [
    "tokenizer = AutoTokenizer.from_pretrained('bert-base-uncased')\n",
    "model = AutoModelForSequenceClassification.from_pretrained('bert-base-uncased', num_labels=2)"
   ]
  },
  {
   "cell_type": "code",
   "execution_count": 4,
   "id": "f871e2f2-4c8f-458a-aeec-e1979e063a45",
   "metadata": {},
   "outputs": [],
   "source": [
    "batch_size = 8\n",
    "device = torch.device(\"cuda\" if torch.cuda.is_available() else \"cpu\")"
   ]
  },
  {
   "cell_type": "code",
   "execution_count": 5,
   "id": "7d8c8765-25bd-4d64-a019-cb7a1013b69c",
   "metadata": {},
   "outputs": [],
   "source": [
    "def tokenize_function(batch):\n",
    "    return tokenizer(batch['text'], padding=True, truncation=True, max_length=512, return_tensors=\"pt\")"
   ]
  },
  {
   "cell_type": "code",
   "execution_count": 6,
   "id": "29e86025-1597-4cc6-8669-2b97334bfeea",
   "metadata": {},
   "outputs": [
    {
     "name": "stderr",
     "output_type": "stream",
     "text": [
      "Map: 100%|███████████████████████| 16800/16800 [00:08<00:00, 1869.18 examples/s]\n"
     ]
    }
   ],
   "source": [
    "tr = tr.map(tokenize_function, batched=True)\n",
    "tr.set_format(type='torch', columns=['input_ids', 'attention_mask', 'label'])"
   ]
  },
  {
   "cell_type": "code",
   "execution_count": 7,
   "id": "2a427a92-cb5d-45b8-9233-bbac958cc1b6",
   "metadata": {},
   "outputs": [],
   "source": [
    "train_loader = DataLoader(tr, batch_size=batch_size, shuffle=True)"
   ]
  },
  {
   "cell_type": "code",
   "execution_count": 8,
   "id": "e8a0869a-011e-4389-a7d6-f3d36e4b2cc9",
   "metadata": {},
   "outputs": [
    {
     "name": "stderr",
     "output_type": "stream",
     "text": [
      "Map: 100%|█████████████████████████| 1140/1140 [00:00<00:00, 1930.57 examples/s]\n"
     ]
    }
   ],
   "source": [
    "ts = ts.map(tokenize_function, batched=True)\n",
    "ts.set_format(type='torch', columns=['input_ids', 'attention_mask', 'label'])\n",
    "ts_loader = DataLoader(ts, batch_size=batch_size, shuffle=False)"
   ]
  },
  {
   "cell_type": "code",
   "execution_count": 10,
   "id": "6ecdffff-d53f-4aa9-bb80-9fb926554dbf",
   "metadata": {},
   "outputs": [
    {
     "name": "stderr",
     "output_type": "stream",
     "text": [
      "/opt/anaconda3/envs/compsci371/lib/python3.12/site-packages/transformers/optimization.py:591: FutureWarning: This implementation of AdamW is deprecated and will be removed in a future version. Use the PyTorch implementation torch.optim.AdamW instead, or set `no_deprecation_warning=True` to disable this warning\n",
      "  warnings.warn(\n"
     ]
    }
   ],
   "source": [
    "optimizer = AdamW(model.parameters(), lr=2e-2)"
   ]
  },
  {
   "cell_type": "code",
   "execution_count": null,
   "id": "c8c62111-d855-4af3-abe3-ea0847df1ff2",
   "metadata": {},
   "outputs": [],
   "source": [
    "for epoch in range(1): \n",
    "    model.train()\n",
    "    total_loss = 0\n",
    "    for batch in train_loader:\n",
    "        input_ids = batch['input_ids'].to(device)\n",
    "        attention_mask = batch['attention_mask'].to(device)\n",
    "        labels = batch['label'].to(device)\n",
    "\n",
    "        outputs = model(input_ids=input_ids, attention_mask=attention_mask, labels=labels)\n",
    "        loss = outputs.loss\n",
    "\n",
    "        optimizer.zero_grad()\n",
    "        loss.backward()\n",
    "        optimizer.step()\n",
    "\n",
    "        total_loss += loss.item()\n",
    "\n",
    "    print(f\"Epoch {epoch + 1}, Loss: {total_loss / len(train_loader)}\")"
   ]
  },
  {
   "cell_type": "code",
   "execution_count": null,
   "id": "43f71a92-a37a-4e3e-83d3-40c643bddbea",
   "metadata": {},
   "outputs": [],
   "source": []
  },
  {
   "cell_type": "code",
   "execution_count": null,
   "id": "e7640d90-4b77-4279-a85e-354de178abfd",
   "metadata": {},
   "outputs": [],
   "source": []
  }
 ],
 "metadata": {
  "kernelspec": {
   "display_name": "Python 3 (ipykernel)",
   "language": "python",
   "name": "python3"
  },
  "language_info": {
   "codemirror_mode": {
    "name": "ipython",
    "version": 3
   },
   "file_extension": ".py",
   "mimetype": "text/x-python",
   "name": "python",
   "nbconvert_exporter": "python",
   "pygments_lexer": "ipython3",
   "version": "3.12.5"
  }
 },
 "nbformat": 4,
 "nbformat_minor": 5
}
