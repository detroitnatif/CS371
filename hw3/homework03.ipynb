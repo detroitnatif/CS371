{
 "cells": [
  {
   "cell_type": "markdown",
   "metadata": {
    "cell_marker": "r\"\"\"",
    "slideshow": {
     "slide_type": ""
    },
    "tags": [
     "AST"
    ]
   },
   "source": [
    "<style>\n",
    "    @media print{\n",
    "        body {\n",
    "            position:relative !important;\n",
    "        }\n",
    "        .celltag_new_page {\n",
    "            page-break-before: always !important;\n",
    "        }\n",
    "    }\n",
    "</style>\n",
    "<div hidden>\n",
    "    $$\n",
    "    \\newcommand{\\reals}{\\mathbb{R}}\n",
    "    \\newcommand{\\naturals}{\\mathbb{N}}\n",
    "    \\newcommand{\\integers}{\\mathbb{Z}}\n",
    "    \\newcommand{\\prob}{\\mathbb{P}}\n",
    "    \\newcommand{\\expect}{\\mathbb{E}}\n",
    "    \\newcommand{\\b}[1]{\\mathbf{#1}}\n",
    "    \\newcommand{\\bs}[1]{\\boldsymbol{#1}}\n",
    "    \\newcommand{\\c}[1]{\\mathcal{#1}}\n",
    "    \\newcommand{mat}[2]{\\left[\\,\\begin{array}{#1}#2\\end{array}\\,\\right]}\n",
    "    $$\n",
    "</div>"
   ]
  },
  {
   "cell_type": "markdown",
   "metadata": {
    "cell_marker": "\"\"\"",
    "slideshow": {
     "slide_type": ""
    },
    "tags": [
     "AST"
    ]
   },
   "source": [
    "# COMPSCI 371 Homework 3"
   ]
  },
  {
   "cell_type": "markdown",
   "metadata": {
    "cell_marker": "\"\"\"",
    "slideshow": {
     "slide_type": ""
    },
    "tags": [
     "T"
    ]
   },
   "source": [
    "_**Group Members:**_"
   ]
  },
  {
   "cell_type": "markdown",
   "metadata": {
    "cell_marker": "\"\"\"",
    "slideshow": {
     "slide_type": ""
    },
    "tags": [
     "AT"
    ]
   },
   "source": [
    "### Problem 0 (3 points)"
   ]
  },
  {
   "cell_type": "markdown",
   "metadata": {
    "cell_marker": "\"\"\"",
    "slideshow": {
     "slide_type": ""
    },
    "tags": [
     "AST"
    ]
   },
   "source": [
    "## Part 1: Stochastic Gradient Descent"
   ]
  },
  {
   "cell_type": "code",
   "execution_count": 1,
   "metadata": {
    "slideshow": {
     "slide_type": ""
    },
    "tags": [
     "AST"
    ]
   },
   "outputs": [],
   "source": [
    "import urllib.request\n",
    "import ssl\n",
    "from os import path as osp\n",
    "import shutil\n",
    "\n",
    "\n",
    "def retrieve(file_name, semester='fall24', homework=3):\n",
    "    if osp.exists(file_name):\n",
    "        print('Using previously downloaded file {}'.format(file_name))\n",
    "    else:\n",
    "        context = ssl._create_unverified_context()\n",
    "        fmt = 'https://www2.cs.duke.edu/courses/{}/compsci371/homework/{}/{}'\n",
    "        url = fmt.format(semester, homework, file_name)\n",
    "        with urllib.request.urlopen(url, context=context) as response:\n",
    "            with open(file_name, 'wb') as file:\n",
    "                shutil.copyfileobj(response, file)\n",
    "        print('Downloaded file {}'.format(file_name))"
   ]
  },
  {
   "cell_type": "code",
   "execution_count": 2,
   "metadata": {
    "slideshow": {
     "slide_type": ""
    },
    "tags": [
     "AST"
    ]
   },
   "outputs": [
    {
     "name": "stdout",
     "output_type": "stream",
     "text": [
      "Downloaded file helpers.py\n"
     ]
    }
   ],
   "source": [
    "retrieve('helpers.py', homework=2)"
   ]
  },
  {
   "cell_type": "code",
   "execution_count": 3,
   "metadata": {
    "slideshow": {
     "slide_type": ""
    },
    "tags": [
     "AST"
    ]
   },
   "outputs": [],
   "source": [
    "from helpers import Stepper\n",
    "from autograd import numpy as anp\n",
    "import numpy as snp\n",
    "\n",
    "\n",
    "def gradient_descent(\n",
    "    f, z, alpha, min_step=1.e-6, max_iter=10000, history=False, **kwargs\n",
    "):\n",
    "    step = Stepper(f, z, alpha, history=history, **kwargs)\n",
    "    z, fz, gz = anp.copy(z), step.fz0, step.gz0\n",
    "    for k in range(max_iter):\n",
    "        s, z, fz, gz = step(z, **kwargs)\n",
    "        if anp.linalg.norm(s) < min_step:\n",
    "            break\n",
    "    step.show_history()\n",
    "    return fz, z, k"
   ]
  },
  {
   "cell_type": "code",
   "execution_count": 4,
   "metadata": {
    "slideshow": {
     "slide_type": ""
    },
    "tags": [
     "AST"
    ]
   },
   "outputs": [
    {
     "name": "stdout",
     "output_type": "stream",
     "text": [
      "Downloaded file students.pkl\n"
     ]
    }
   ],
   "source": [
    "import pickle\n",
    "\n",
    "\n",
    "file_name = 'students.pkl'\n",
    "retrieve(file_name)\n",
    "with open(file_name, 'rb') as file:\n",
    "    students = pickle.load(file)"
   ]
  },
  {
   "cell_type": "markdown",
   "metadata": {
    "cell_marker": "\"\"\"",
    "slideshow": {
     "slide_type": ""
    },
    "tags": [
     "AST"
    ]
   },
   "source": [
    "### Problem 1.1"
   ]
  },
  {
   "cell_type": "code",
   "execution_count": 15,
   "metadata": {},
   "outputs": [
    {
     "name": "stdout",
     "output_type": "stream",
     "text": [
      "(5000, 4) (5000,)\n"
     ]
    }
   ],
   "source": [
    "x_tr = students.train.x\n",
    "y_tr = students.train.y\n",
    "x_ts = students.test.x\n",
    "y_ts = students.test.y\n",
    "print(x_tr.shape, y_tr.shape)"
   ]
  },
  {
   "cell_type": "code",
   "execution_count": 39,
   "metadata": {},
   "outputs": [
    {
     "name": "stdout",
     "output_type": "stream",
     "text": [
      "the v vector for the training set is [0.552 0.074 0.176 0.008 0.005]\n"
     ]
    }
   ],
   "source": [
    "from sklearn.linear_model import LinearRegression\n",
    "import numpy as snp\n",
    "\n",
    "X = LinearRegression()\n",
    "X.fit(x_tr, y_tr)\n",
    "\n",
    "w = X.coef_\n",
    "b = X.intercept_\n",
    "v = snp.round([b] + list(w), 3)\n",
    "print(f'the v vector for the training set is {v}')"
   ]
  },
  {
   "cell_type": "code",
   "execution_count": 55,
   "metadata": {},
   "outputs": [],
   "source": [
    "def rms(v, x, y):\n",
    "    b, w = v[0], v[1:]\n",
    "\n",
    "    y_hat = x @ w + b\n",
    "\n",
    "    diff = y_hat - y\n",
    "\n",
    "    normalized_diff = ((snp.sum((diff**2))) / len(y))**(1/2)\n",
    "\n",
    "    true_y = ((snp.sum(y**2)) / len(y)) ** (1/2)\n",
    "\n",
    "    return snp.round((normalized_diff / true_y), 4)"
   ]
  },
  {
   "cell_type": "code",
   "execution_count": 63,
   "metadata": {},
   "outputs": [
    {
     "name": "stdout",
     "output_type": "stream",
     "text": [
      "training error: 0.0351\n",
      "test error: 0.0355\n"
     ]
    }
   ],
   "source": [
    "train_error = rms(v, x_tr, y_tr)\n",
    "test_error = rms(v, x_ts, y_ts)\n",
    "print(f'training error: {train_error}')\n",
    "print(f'test error: {test_error}')\n"
   ]
  },
  {
   "cell_type": "markdown",
   "metadata": {},
   "source": [
    "Yes, the predictor performs well because the root means squared error is very low, meaning the parameters from the linear regression problem \n",
    " fit the training data well"
   ]
  },
  {
   "cell_type": "markdown",
   "metadata": {},
   "source": [
    "Yes, the model also generalizes well becuase when it is used on previously unseen data it performs accurately with a small loss."
   ]
  },
  {
   "cell_type": "markdown",
   "metadata": {
    "cell_marker": "\"\"\"",
    "slideshow": {
     "slide_type": ""
    },
    "tags": [
     "AST"
    ]
   },
   "source": [
    "### Problem 1.2"
   ]
  },
  {
   "cell_type": "code",
   "execution_count": 195,
   "metadata": {},
   "outputs": [],
   "source": [
    "def risk(v, x, y, indices=None):\n",
    "    if indices is not None:\n",
    "        x = x[indices, :]\n",
    "        y = y[indices]\n",
    "\n",
    "    b = v[0]     \n",
    "    w = anp.array(v[1:])\n",
    "    y_hat = anp.dot(x, w) + b\n",
    "    res = y_hat - y\n",
    "    res_2 = res**2\n",
    "    sum_res = sum(res_2)\n",
    "    loss_normalized = sum_res / len(y) \n",
    "    \n",
    "    return loss_normalized\n",
    "\n"
   ]
  },
  {
   "cell_type": "code",
   "execution_count": 196,
   "metadata": {},
   "outputs": [
    {
     "name": "stdout",
     "output_type": "stream",
     "text": [
      "risk of the entire training set: 50.11532706039568\n",
      "risk of the first 100 training samples: 44.36168707008522\n",
      "risk of the last 100 training samples: 53.22716307700358\n"
     ]
    }
   ],
   "source": [
    "v = anp.array([5,1,2,3,4])\n",
    "\n",
    "risk1 = risk(v, x_tr, y_tr)\n",
    "risk2 = risk(v, x_tr, y_tr, indices=range(100))\n",
    "risk3 = risk(v, x_tr, y_tr, indices=range(-100, 0))\n",
    "\n",
    "print(f'risk of the entire training set: {risk1}')\n",
    "print(f'risk of the first 100 training samples: {risk2}')\n",
    "print(f'risk of the last 100 training samples: {risk3}')\n"
   ]
  },
  {
   "cell_type": "markdown",
   "metadata": {
    "cell_marker": "\"\"\"",
    "slideshow": {
     "slide_type": ""
    },
    "tags": [
     "AST"
    ]
   },
   "source": [
    "### Problem 1.3"
   ]
  },
  {
   "cell_type": "code",
   "execution_count": 197,
   "metadata": {},
   "outputs": [],
   "source": [
    "def gradient_descent(\n",
    "    f, z, alpha, min_step=1.e-6, max_iter=10000, history=False, **kwargs\n",
    "):\n",
    "    step = Stepper(f, z, alpha, history=history, **kwargs)\n",
    "    z, fz, gz = anp.copy(z), step.fz0, step.gz0\n",
    "    for k in range(max_iter):\n",
    "        s, z, fz, gz = step(z, **kwargs)\n",
    "        if anp.linalg.norm(s) < min_step:\n",
    "            break\n",
    "    step.show_history()\n",
    "    return fz, z, k\n"
   ]
  },
  {
   "cell_type": "code",
   "execution_count": 198,
   "metadata": {},
   "outputs": [],
   "source": [
    "from random import shuffle\n",
    "import numpy as np\n",
    "from autograd import numpy as anp\n",
    "from math import sqrt\n",
    "from helpers import Stepper\n",
    "\n",
    "def sgd(\n",
    "    h, v, alpha=1.e-3, x=None, y=None, batch_size=None,\n",
    "    min_step=1.e-6, max_epochs=5000, history=True\n",
    "):\n",
    "    \n",
    "    size = len(x)\n",
    "    grad = Stepper(h, v, alpha, history=history, x=x, y=y)\n",
    "    d = len(v)\n",
    "    v0 = anp.zeros(d)\n",
    "\n",
    "    if batch_size is None:\n",
    "        batch_size = size \n",
    "\n",
    "    fz = None\n",
    "    for i in range(max_epochs):\n",
    "        idx = list(range(size))\n",
    "        shuffle(idx)\n",
    "\n",
    "        v0 = anp.copy(v)\n",
    "        for j in range(0, size, batch_size):\n",
    "            b_idx = idx[j:j+batch_size]\n",
    "            res = grad(v, x=x, y=y, indices=b_idx)\n",
    "            v = res[1]\n",
    "        norm_diff = anp.linalg.norm(v - v0)\n",
    "        \n",
    "        if norm_diff < min_step:\n",
    "            break\n",
    "            \n",
    "    if history:\n",
    "        grad.show_history()\n",
    "\n",
    "    return res[0], v, i"
   ]
  },
  {
   "cell_type": "code",
   "execution_count": 199,
   "metadata": {},
   "outputs": [
    {
     "data": {
      "image/png": "[encoded data removed]",
      "text/plain": [
       "<Figure size 600x300 with 1 Axes>"
      ]
     },
     "metadata": {},
     "output_type": "display_data"
    },
    {
     "name": "stdout",
     "output_type": "stream",
     "text": [
      "Optimal v (synthetic): [4.93762244 2.2943142  2.811441  ]\n",
      "True parameters should be close to: [5, 2, 3]\n"
     ]
    }
   ],
   "source": []
  },
  {
   "cell_type": "markdown",
   "metadata": {
    "cell_marker": "\"\"\"",
    "slideshow": {
     "slide_type": ""
    },
    "tags": [
     "AST"
    ]
   },
   "source": [
    "### Problem 1.4 (Exam Style)"
   ]
  },
  {
   "cell_type": "markdown",
   "metadata": {
    "cell_marker": "\"\"\"",
    "slideshow": {
     "slide_type": ""
    },
    "tags": [
     "AST"
    ]
   },
   "source": [
    "### Problem 1.5"
   ]
  },
  {
   "cell_type": "markdown",
   "metadata": {
    "cell_marker": "\"\"\"",
    "slideshow": {
     "slide_type": ""
    },
    "tags": [
     "AST"
    ]
   },
   "source": [
    "### Problem 1.6 (Exam Style)"
   ]
  },
  {
   "cell_type": "markdown",
   "metadata": {
    "cell_marker": "\"\"\"",
    "slideshow": {
     "slide_type": ""
    },
    "tags": [
     "AST"
    ]
   },
   "source": [
    "### Problem 1.7 (Exam Style)"
   ]
  },
  {
   "cell_type": "markdown",
   "metadata": {
    "cell_marker": "\"\"\"",
    "slideshow": {
     "slide_type": ""
    },
    "tags": [
     "AST"
    ]
   },
   "source": [
    "## Part 2: Linear Score-Based Classifiers"
   ]
  },
  {
   "cell_type": "markdown",
   "metadata": {
    "cell_marker": "\"\"\"",
    "slideshow": {
     "slide_type": ""
    },
    "tags": [
     "AST"
    ]
   },
   "source": [
    "### Problem 2.1 (Exam Style)"
   ]
  },
  {
   "cell_type": "markdown",
   "metadata": {
    "cell_marker": "\"\"\"",
    "slideshow": {
     "slide_type": ""
    },
    "tags": [
     "AST"
    ]
   },
   "source": [
    "### Problem 2.2 (Exam Style)"
   ]
  },
  {
   "cell_type": "markdown",
   "metadata": {
    "cell_marker": "\"\"\"",
    "slideshow": {
     "slide_type": ""
    },
    "tags": [
     "AST"
    ]
   },
   "source": [
    "### Problem 2.3 (Exam Style)"
   ]
  },
  {
   "cell_type": "markdown",
   "metadata": {
    "cell_marker": "\"\"\"",
    "slideshow": {
     "slide_type": ""
    },
    "tags": [
     "AST"
    ]
   },
   "source": [
    "### Problem 2.4"
   ]
  },
  {
   "cell_type": "code",
   "execution_count": 17,
   "metadata": {
    "slideshow": {
     "slide_type": ""
    },
    "tags": [
     "AST"
    ]
   },
   "outputs": [
    {
     "name": "stdout",
     "output_type": "stream",
     "text": [
      "Using previously downloaded file classifiers.pkl\n"
     ]
    }
   ],
   "source": [
    "import pickle\n",
    "\n",
    "file_name = 'classifiers.pkl'\n",
    "retrieve(file_name)\n",
    "with open(file_name, 'rb') as file:\n",
    "    classifiers = pickle.load(file)"
   ]
  },
  {
   "cell_type": "markdown",
   "metadata": {
    "cell_marker": "\"\"\"",
    "slideshow": {
     "slide_type": ""
    },
    "tags": [
     "AST"
    ]
   },
   "source": [
    "### Problem 2.5"
   ]
  },
  {
   "cell_type": "markdown",
   "metadata": {
    "cell_marker": "\"\"\"",
    "slideshow": {
     "slide_type": ""
    },
    "tags": [
     "AST"
    ]
   },
   "source": [
    "## Part 3: Linear Classification of Handwritten Digits "
   ]
  },
  {
   "cell_type": "code",
   "execution_count": 39,
   "metadata": {
    "slideshow": {
     "slide_type": ""
    },
    "tags": [
     "AST"
    ]
   },
   "outputs": [],
   "source": [
    "from sklearn import datasets\n",
    "from sklearn.model_selection import train_test_split\n",
    "from types import SimpleNamespace\n",
    "\n",
    "digits = datasets.load_digits()\n",
    "x_train, x_test, y_train, y_test = train_test_split(\n",
    "    digits.data, digits.target, train_size=900, shuffle=False\n",
    ")\n",
    "mnist = SimpleNamespace(\n",
    "    train=SimpleNamespace(x=x_train, y=y_train),\n",
    "    test=SimpleNamespace(x=x_test, y=y_test)\n",
    ")"
   ]
  },
  {
   "cell_type": "markdown",
   "metadata": {
    "cell_marker": "\"\"\"",
    "slideshow": {
     "slide_type": ""
    },
    "tags": [
     "AST"
    ]
   },
   "source": [
    "### Problem 3.1"
   ]
  },
  {
   "cell_type": "markdown",
   "metadata": {
    "cell_marker": "\"\"\"",
    "slideshow": {
     "slide_type": ""
    },
    "tags": [
     "AST"
    ]
   },
   "source": [
    "### Problem 3.2 (Exam Style)"
   ]
  }
 ],
 "metadata": {
  "celltoolbar": "Tags",
  "jupytext": {
   "cell_markers": "\"\"\""
  },
  "kernelspec": {
   "display_name": "Python 3 (ipykernel)",
   "language": "python",
   "name": "python3"
  },
  "language_info": {
   "codemirror_mode": {
    "name": "ipython",
    "version": 3
   },
   "file_extension": ".py",
   "mimetype": "text/x-python",
   "name": "python",
   "nbconvert_exporter": "python",
   "pygments_lexer": "ipython3",
   "version": "3.12.5"
  },
  "pycharm": {
   "stem_cell": {
    "cell_type": "raw",
    "metadata": {
     "collapsed": false
    },
    "source": []
   }
  }
 },
 "nbformat": 4,
 "nbformat_minor": 4
}
