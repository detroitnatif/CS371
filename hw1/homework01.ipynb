{
 "cells": [
  {
   "cell_type": "markdown",
   "metadata": {
    "cell_marker": "r\"\"\"",
    "editable": true,
    "slideshow": {
     "slide_type": ""
    },
    "tags": [
     "AST"
    ]
   },
   "source": [
    "<style>\n",
    "    @media print{\n",
    "        body {\n",
    "            position:relative !important;\n",
    "        }\n",
    "        .celltag_new_page {\n",
    "            page-break-before: always !important;\n",
    "        }\n",
    "    }\n",
    "</style>\n",
    "<div hidden>\n",
    "    $$\n",
    "    \\newcommand{\\reals}{\\mathbb{R}}\n",
    "    \\newcommand{\\naturals}{\\mathbb{N}}\n",
    "    \\newcommand{\\integers}{\\mathbb{Z}}\n",
    "    \\newcommand{\\prob}{\\mathbb{P}}\n",
    "    \\newcommand{\\expect}{\\mathbb{E}}\n",
    "    \\newcommand{\\b}[1]{\\mathbf{#1}}\n",
    "    \\newcommand{\\bs}[1]{\\boldsymbol{#1}}\n",
    "    \\newcommand{\\c}[1]{\\mathcal{#1}}\n",
    "    \\newcommand{mat}[2]{\\left[\\,\\begin{array}{#1}#2\\end{array}\\,\\right]}\n",
    "    $$\n",
    "</div>"
   ]
  },
  {
   "cell_type": "markdown",
   "metadata": {
    "cell_marker": "\"\"\"",
    "editable": true,
    "slideshow": {
     "slide_type": ""
    },
    "tags": [
     "AST"
    ]
   },
   "source": [
    "# COMPSCI 371 Homework 1"
   ]
  },
  {
   "cell_type": "markdown",
   "metadata": {
    "cell_marker": "\"\"\"",
    "editable": true,
    "slideshow": {
     "slide_type": ""
    },
    "tags": [
     "T"
    ]
   },
   "source": [
    "_**Group Members:**_"
   ]
  },
  {
   "cell_type": "markdown",
   "metadata": {
    "cell_marker": "\"\"\"",
    "editable": true,
    "slideshow": {
     "slide_type": ""
    },
    "tags": [
     "AT"
    ]
   },
   "source": [
    "### Problem 0 (3 points)"
   ]
  },
  {
   "cell_type": "markdown",
   "metadata": {
    "cell_marker": "\"\"\"",
    "editable": true,
    "slideshow": {
     "slide_type": ""
    },
    "tags": [
     "AST"
    ]
   },
   "source": [
    "## Part 1: Problems in Machine Learning"
   ]
  },
  {
   "cell_type": "markdown",
   "metadata": {
    "cell_marker": "\"\"\"",
    "editable": true,
    "slideshow": {
     "slide_type": ""
    },
    "tags": [
     "AST"
    ]
   },
   "source": [
    "### Problem 1.1"
   ]
  },
  {
   "cell_type": "markdown",
   "metadata": {
    "cell_marker": "\"\"\"",
    "editable": true,
    "slideshow": {
     "slide_type": ""
    },
    "tags": [
     "AST"
    ]
   },
   "source": [
    "### Problem 1.2 (Exam Style)"
   ]
  },
  {
   "cell_type": "markdown",
   "metadata": {
    "cell_marker": "\"\"\"",
    "editable": true,
    "slideshow": {
     "slide_type": ""
    },
    "tags": [
     "AST"
    ]
   },
   "source": [
    "### Problem 1.3 (Exam Style)"
   ]
  },
  {
   "cell_type": "markdown",
   "metadata": {
    "cell_marker": "\"\"\"",
    "editable": true,
    "slideshow": {
     "slide_type": ""
    },
    "tags": [
     "AST"
    ]
   },
   "source": [
    "### Problem 1.4"
   ]
  },
  {
   "cell_type": "code",
   "execution_count": 1,
   "metadata": {
    "editable": true,
    "lines_to_next_cell": 1,
    "slideshow": {
     "slide_type": ""
    },
    "tags": [
     "AST",
     "hide-input"
    ]
   },
   "outputs": [],
   "source": [
    "import urllib.request\n",
    "import ssl\n",
    "from os import path as osp\n",
    "import shutil\n",
    "\n",
    "\n",
    "def retrieve(file_name, semester='fall24', homework=1):\n",
    "    if osp.exists(file_name):\n",
    "        print('Using previously downloaded file {}'.format(file_name))\n",
    "    else:\n",
    "        context = ssl._create_unverified_context()\n",
    "        fmt = 'https://www2.cs.duke.edu/courses/{}/compsci371/homework/{}/{}'\n",
    "        url = fmt.format(semester, homework, file_name)\n",
    "        with urllib.request.urlopen(url, context=context) as response:\n",
    "            with open(file_name, 'wb') as file:\n",
    "                shutil.copyfileobj(response, file)\n",
    "        print('Downloaded file {}'.format(file_name))"
   ]
  },
  {
   "cell_type": "code",
   "execution_count": null,
   "metadata": {
    "editable": true,
    "lines_to_next_cell": 2,
    "slideshow": {
     "slide_type": ""
    },
    "tags": [
     "AST"
    ]
   },
   "outputs": [],
   "source": []
  },
  {
   "cell_type": "code",
   "execution_count": 4,
   "metadata": {},
   "outputs": [
    {
     "name": "stdout",
     "output_type": "stream",
     "text": [
      "Using previously downloaded file points.pkl\n"
     ]
    }
   ],
   "source": [
    "import pickle\n",
    "\n",
    "# retrieve is defined in a hidden cell\n",
    "file_name = 'points.pkl'\n",
    "retrieve(file_name)\n",
    "with open(file_name, 'rb') as file:\n",
    "    points = pickle.load(file)\n",
    "\n",
    "sigma, min_size = 2, 5"
   ]
  },
  {
   "cell_type": "code",
   "execution_count": 3,
   "metadata": {},
   "outputs": [
    {
     "data": {
      "text/plain": [
       "array([-9.18107175,  4.43503692])"
      ]
     },
     "execution_count": 3,
     "metadata": {},
     "output_type": "execute_result"
    }
   ],
   "source": [
    "points[0]"
   ]
  },
  {
   "cell_type": "code",
   "execution_count": 4,
   "metadata": {},
   "outputs": [],
   "source": [
    "import numpy as np\n",
    "\n",
    "def g(m, x, sig=2):\n",
    "    return np.exp(-((np.linalg.norm(x - m)) ** 2) / (2 * (sig ** 2)))"
   ]
  },
  {
   "cell_type": "code",
   "execution_count": 5,
   "metadata": {},
   "outputs": [],
   "source": [
    "def denominator(points, m, sig=2):\n",
    "    d = []\n",
    "    for x in points:\n",
    "        d.append(g(m, x, sig))\n",
    "    denominator = sum(d)\n",
    "    return denominator"
   ]
  },
  {
   "cell_type": "code",
   "execution_count": 6,
   "metadata": {},
   "outputs": [],
   "source": [
    "def step(m, t, sigma):\n",
    "    \n",
    "    numerator_sum = np.zeros_like(m)\n",
    "    denom = denominator(t, m, sigma)\n",
    "    \n",
    "    for x in t:\n",
    "        w_x = g(m, x, sigma) / denom\n",
    "        numerator_sum += w_x * x\n",
    "    \n",
    "    return numerator_sum"
   ]
  },
  {
   "cell_type": "code",
   "execution_count": 7,
   "metadata": {},
   "outputs": [],
   "source": [
    "def seek(m_old, t, sigma=2, max_iter=100):\n",
    "    m_old = np.array(m_old)\n",
    "    # print(m_old.shape)\n",
    "    epoch = 0\n",
    "    distance = np.inf  \n",
    "    while epoch < max_iter and distance > sigma / 10:\n",
    "        m_new = step(m_old, t, sigma)\n",
    "        distance = np.linalg.norm(m_new - m_old)\n",
    "        m_old = m_new\n",
    "        epoch += 1\n",
    "    return m_new     "
   ]
  },
  {
   "cell_type": "code",
   "execution_count": 8,
   "metadata": {},
   "outputs": [],
   "source": [
    " m_n_shape = seek(points[0], points, sigma)"
   ]
  },
  {
   "cell_type": "code",
   "execution_count": 13,
   "metadata": {},
   "outputs": [],
   "source": [
    "def cluster(t, sigma=2, min_size=5):\n",
    "    groups = {}\n",
    "    \n",
    "    for x in t:\n",
    "        m_n = seek(x, t, sigma)\n",
    "        m_n = tuple(m_n)\n",
    "        \n",
    "        sigma_radius = 0\n",
    "        for mid_point in groups:\n",
    "             if np.linalg.norm(np.array(m_n) - np.array(mid_point)) < sigma:\n",
    "                \n",
    "                new_center = tuple((np.array(mid_point) + np.array(m_n)) / 2)\n",
    "                groups[new_center] = groups.pop(mid_point) \n",
    "                groups[new_center].append(x)\n",
    "                sigma_radius = 1\n",
    "                break\n",
    "        \n",
    "        if sigma_radius == 0:\n",
    "            groups[m_n] = [x]\n",
    "    \n",
    "    nontrivial = {}\n",
    "    for k, amt in groups.items():\n",
    "        if len(amt) >= min_size:\n",
    "            nontrivial[k] = amt\n",
    "    \n",
    "    return nontrivial"
   ]
  },
  {
   "cell_type": "code",
   "execution_count": 15,
   "metadata": {},
   "outputs": [
    {
     "name": "stdout",
     "output_type": "stream",
     "text": [
      "{(np.float64(-7.153104948406902), np.float64(-7.728195995521469)): [array([-7.73554447, -7.77566432]), array([-7.44016713, -8.79195851]), array([ -6.74924724, -10.17542932]), array([-7.40873586, -8.10963125]), array([-6.94306091, -7.0237442 ]), array([-6.83478745, -7.39121692]), array([-8.50899599, -8.65769397]), array([-6.87832079, -7.74317646]), array([-7.68488303, -7.45519607]), array([-7.28721033, -8.35398617]), array([-6.86658246, -8.03421946]), array([-7.8121371 , -5.34984488]), array([-6.90484511, -7.27705918]), array([-7.3710862 , -7.32525346]), array([-7.51201075, -6.9287204 ]), array([-6.64138783, -8.07588804]), array([-5.8659643 , -7.96807169])], (np.float64(-1.6692850949555202), np.float64(4.063185456482214)): [array([-0.55397084,  4.01338506]), array([-4.3223684 ,  5.30199347]), array([-2.34673261,  3.56128423]), array([-2.76017908,  5.55121358]), array([-2.35122066,  4.00973634]), array([-0.52579046,  3.3065986 ]), array([-1.78245013,  3.47072043]), array([-1.98197711,  4.02243551]), array([-0.79415228,  2.10495117]), array([-0.75796919,  4.90898421]), array([-1.61734616,  4.98930508]), array([-0.19745197,  2.34634916]), array([-1.92744799,  4.93684534]), array([-1.83198811,  3.52863145]), array([-0.75870396,  3.72276201]), array([0.08525186, 3.64528297]), array([-2.18773166,  3.33352125]), array([-2.33080604,  4.39382527]), array([-2.13850269,  5.06263191]), array([-1.34052081,  4.15711949])], (np.float64(-9.854186843631211), np.float64(-3.583275736318646)): [array([-9.50919436, -4.02892026]), array([-9.71212518, -3.06820738]), array([-9.94690475, -4.59034419]), array([-8.86608312, -2.43353173]), array([-11.11502285,  -3.71893285]), array([-8.33791033, -3.21130439]), array([-10.7448708 ,  -2.26089395]), array([-10.20660674,  -3.36672536]), array([-9.87755355, -3.33614544]), array([-9.69754218, -4.30559839]), array([-9.48478268, -4.25144138]), array([-10.18954806,  -4.84097751]), array([-10.75211044,  -2.70048039]), array([-11.1402307 ,  -4.30269127]), array([-9.15872909, -3.02224647]), array([-9.80679702, -1.85309341]), array([-6.91398711, -4.36088381])]}\n"
     ]
    },
    {
     "data": {
      "image/png": "[encoded data removed]",
      "text/plain": [
       "<Figure size 640x480 with 1 Axes>"
      ]
     },
     "metadata": {},
     "output_type": "display_data"
    }
   ],
   "source": [
    "import matplotlib.pyplot as plt\n",
    "\n",
    "clusters = cluster(points, sigma=1)\n",
    "print(clusters)\n",
    "\n",
    "def plot(t, clusters, sigma):\n",
    "    amt = len(clusters)\n",
    "    \n",
    "    fig, ax = plt.subplots()\n",
    "    colors = ['red', 'blue', 'orange']\n",
    "    \n",
    "    for x in t:\n",
    "        c = 0\n",
    "        for i, (middle, x_vals) in enumerate(clusters.items()):\n",
    "            if any(np.array_equal(x, p) for p in x_vals):\n",
    "                ax.scatter(x[0], x[1], color=colors[i % 3], marker='*', s=50)\n",
    "                c = 1\n",
    "                break\n",
    "        \n",
    "        if c == 0:\n",
    "            ax.scatter(x[0], x[1], color='green', marker='.', s=150)\n",
    "    \n",
    "    for i, (middle, x_vals) in enumerate(clusters.items()):\n",
    "        circle = plt.Circle((middle[0], middle[1]), sigma / 1.5, color=colors[i % 3], fill=False, linewidth=2)\n",
    "        ax.add_patch(circle)\n",
    "    \n",
    "    plt.show()\n",
    "    \n",
    "\n",
    "\n",
    "plot(points, clusters, sigma=2)"
   ]
  },
  {
   "cell_type": "markdown",
   "metadata": {
    "cell_marker": "\"\"\"",
    "editable": true,
    "slideshow": {
     "slide_type": ""
    },
    "tags": [
     "AST"
    ]
   },
   "source": [
    "## Part 2: Voronoi Diagrams"
   ]
  },
  {
   "cell_type": "markdown",
   "metadata": {
    "cell_marker": "\"\"\"",
    "editable": true,
    "slideshow": {
     "slide_type": ""
    },
    "tags": [
     "AST"
    ]
   },
   "source": [
    "### Problem 2.1 (Exam Style)"
   ]
  },
  {
   "cell_type": "markdown",
   "metadata": {
    "cell_marker": "\"\"\"",
    "editable": true,
    "slideshow": {
     "slide_type": ""
    },
    "tags": [
     "AST"
    ]
   },
   "source": [
    "### Problem 2.2 (Exam Style)"
   ]
  },
  {
   "cell_type": "markdown",
   "metadata": {
    "cell_marker": "\"\"\"",
    "editable": true,
    "slideshow": {
     "slide_type": ""
    },
    "tags": [
     "AST"
    ]
   },
   "source": [
    "### Problem 2.3"
   ]
  },
  {
   "cell_type": "markdown",
   "metadata": {
    "cell_marker": "\"\"\"",
    "editable": true,
    "slideshow": {
     "slide_type": ""
    },
    "tags": [
     "AST"
    ]
   },
   "source": [
    "## Part 3: Nearest-Neighbor Classification "
   ]
  },
  {
   "cell_type": "code",
   "execution_count": 87,
   "metadata": {
    "editable": true,
    "slideshow": {
     "slide_type": ""
    },
    "tags": [
     "AST"
    ]
   },
   "outputs": [],
   "source": [
    "p = [0, 0]\n",
    "q = [1, 0]\n",
    "r = [0.3, 0.8]\n",
    "\n",
    "#v = vertex(p, q, r)\n",
    "l_pq, l_qr, l_rp = edge(p, q), edge(q, r), edge(r, p)"
   ]
  },
  {
   "cell_type": "code",
   "execution_count": 90,
   "metadata": {},
   "outputs": [],
   "source": [
    "import numpy as np\n",
    "\n",
    "def edge(p, q):\n",
    "    p0, p1, q0, q1 = p[0], p[1], q[0], q[1]\n",
    "    a0 = p0 - q0\n",
    "    a1 = p1 - q1\n",
    "    a2 = 0.5 * (q0*q0 + q1*q1 - p0*p0 - p1*p1)\n",
    "    return [a0, a1, a2]"
   ]
  },
  {
   "cell_type": "code",
   "execution_count": 91,
   "metadata": {},
   "outputs": [],
   "source": [
    "def vertex(p, q, r):\n",
    "    x = edge(p, q)\n",
    "    y = edge(q, r)\n",
    "    # Solves the linear system formed by edges\n",
    "    A = np.array([x[:2], y[:2]])\n",
    "    b = [-x[2], -y[2]]\n",
    "    return np.linalg.solve(A, b)"
   ]
  },
  {
   "cell_type": "code",
   "execution_count": null,
   "metadata": {},
   "outputs": [],
   "source": []
  },
  {
   "cell_type": "code",
   "execution_count": 80,
   "metadata": {},
   "outputs": [
    {
     "ename": "NameError",
     "evalue": "name 'v' is not defined",
     "output_type": "error",
     "traceback": [
      "\u001b[0;31m---------------------------------------------------------------------------\u001b[0m",
      "\u001b[0;31mNameError\u001b[0m                                 Traceback (most recent call last)",
      "Cell \u001b[0;32mIn[80], line 17\u001b[0m\n\u001b[1;32m     15\u001b[0m plot\u001b[38;5;241m.\u001b[39mplot(q[\u001b[38;5;241m0\u001b[39m], q[\u001b[38;5;241m1\u001b[39m], \u001b[38;5;124m'\u001b[39m\u001b[38;5;124m.\u001b[39m\u001b[38;5;124m'\u001b[39m, markersize\u001b[38;5;241m=\u001b[39m\u001b[38;5;241m10\u001b[39m)\n\u001b[1;32m     16\u001b[0m plot\u001b[38;5;241m.\u001b[39mplot(r[\u001b[38;5;241m0\u001b[39m], r[\u001b[38;5;241m1\u001b[39m], \u001b[38;5;124m'\u001b[39m\u001b[38;5;124m.\u001b[39m\u001b[38;5;124m'\u001b[39m, markersize\u001b[38;5;241m=\u001b[39m\u001b[38;5;241m10\u001b[39m)\n\u001b[0;32m---> 17\u001b[0m plot\u001b[38;5;241m.\u001b[39mplot(\u001b[43mv\u001b[49m[\u001b[38;5;241m0\u001b[39m], v[\u001b[38;5;241m1\u001b[39m], \u001b[38;5;124m'\u001b[39m\u001b[38;5;124m.\u001b[39m\u001b[38;5;124m'\u001b[39m, markersize\u001b[38;5;241m=\u001b[39m\u001b[38;5;241m10\u001b[39m)\n\u001b[1;32m     18\u001b[0m plot_line(l_pq)\n\u001b[1;32m     19\u001b[0m plot_line(l_qr)\n",
      "\u001b[0;31mNameError\u001b[0m: name 'v' is not defined"
     ]
    },
    {
     "data": {
      "image/png": "[encoded data removed]",
      "text/plain": [
       "<Figure size 640x480 with 1 Axes>"
      ]
     },
     "metadata": {},
     "output_type": "display_data"
    }
   ],
   "source": [
    "import matplotlib.pyplot as plot\n",
    "\n",
    "def plot_line(a):\n",
    "    if a[1] != 0:\n",
    "        x_vals = np.linspace(-1, 2, 100)\n",
    "        y_vals = - (a[0] * x_vals + a[2]) / a[1]\n",
    "        plot.plot(x_vals, y_vals)\n",
    "    else:\n",
    "        plot.axvline(x=-a[2]/a[0])\n",
    "\n",
    "\n",
    "plot.xlim(-0.5, 1.5)\n",
    "plot.ylim(-0.5, 1.5)\n",
    "plot.plot(p[0], p[1], '.', markersize=10)\n",
    "plot.plot(q[0], q[1], '.', markersize=10)\n",
    "plot.plot(r[0], r[1], '.', markersize=10)\n",
    "plot.plot(v[0], v[1], '.', markersize=10)\n",
    "plot_line(l_pq)\n",
    "plot_line(l_qr)\n",
    "plot_line(l_rp)\n",
    "plot.axis('equal')\n",
    "#plot.axis('off')"
   ]
  },
  {
   "cell_type": "code",
   "execution_count": 70,
   "metadata": {},
   "outputs": [],
   "source": []
  },
  {
   "cell_type": "code",
   "execution_count": null,
   "metadata": {},
   "outputs": [],
   "source": []
  },
  {
   "cell_type": "code",
   "execution_count": 6,
   "metadata": {},
   "outputs": [
    {
     "name": "stdout",
     "output_type": "stream",
     "text": [
      "Using previously downloaded file pumpkin.pkl\n"
     ]
    }
   ],
   "source": [
    "pumpkin_file_name = 'pumpkin.pkl'\n",
    "retrieve(pumpkin_file_name)\n",
    "with open(pumpkin_file_name, 'rb') as file:\n",
    "    p = pickle.load(file)"
   ]
  },
  {
   "cell_type": "code",
   "execution_count": 8,
   "metadata": {},
   "outputs": [
    {
     "data": {
      "text/plain": [
       "12"
      ]
     },
     "execution_count": 8,
     "metadata": {},
     "output_type": "execute_result"
    }
   ],
   "source": [
    "import numpy as np\n",
    "p.train.x[0].size"
   ]
  },
  {
   "cell_type": "code",
   "execution_count": 10,
   "metadata": {},
   "outputs": [],
   "source": [
    "def normalize(array=p.train.x):\n",
    "    array = np.copy(array)\n",
    "    for i in (range(array.shape[1])):\n",
    "        mean_col = np.mean(array[:, i])\n",
    "        std_col = np.std(array[:, i])\n",
    "        array[:, i] = (array[:, i] - mean_col) / std_col\n",
    "    return array\n",
    "\n"
   ]
  },
  {
   "cell_type": "code",
   "execution_count": 61,
   "metadata": {},
   "outputs": [
    {
     "name": "stdout",
     "output_type": "stream",
     "text": [
      "Means after normalization: [ 2.42324679e-16  4.95307499e-16 -3.26257540e-16 -2.67785794e-16\n",
      " -1.34114941e-16  5.19732405e-16  4.01823019e-15 -2.83170206e-14\n",
      "  6.66355859e-16  1.56543297e-15  5.02560956e-17 -9.68114477e-16]\n",
      "STD [1. 1. 1. 1. 1. 1. 1. 1. 1. 1. 1. 1.]\n"
     ]
    }
   ],
   "source": [
    "a = normalize(p.train.x)\n",
    "print(\"Means after normalization:\", np.mean(a, axis=0))\n",
    "print(\"STD\", np.std(a, axis=0))"
   ]
  },
  {
   "cell_type": "code",
   "execution_count": 40,
   "metadata": {},
   "outputs": [],
   "source": [
    "import sklearn\n",
    "from sklearn.neighbors import KNeighborsClassifier"
   ]
  },
  {
   "cell_type": "code",
   "execution_count": 73,
   "metadata": {},
   "outputs": [],
   "source": [
    "results = np.zeros((31, 3))\n",
    "\n",
    "validate_norm = normalize(p.validate.x)\n",
    "x_test = normalize(p.test.x)\n",
    "\n",
    "for i in range(1, 32):\n",
    "    neigh = KNeighborsClassifier(n_neighbors=i)\n",
    "    neigh.fit(a, p.train.y)\n",
    "\n",
    "    # dont need to do this, .score() does this already\n",
    "    # y_pred = neigh.predict(p.validate.x)\n",
    "    val_acc = neigh.score(validate_norm, p.validate.y)\n",
    "    test_acc = neigh.score(x_test, p.test.y)\n",
    "    results[i - 1, 0] = i\n",
    "    results[i - 1, 1] = val_acc\n",
    "    results[i - 1, 2] = test_acc\n",
    "    \n",
    "    "
   ]
  },
  {
   "cell_type": "code",
   "execution_count": 68,
   "metadata": {},
   "outputs": [
    {
     "data": {
      "image/png": "[encoded data removed]",
      "text/plain": [
       "<Figure size 640x480 with 1 Axes>"
      ]
     },
     "metadata": {},
     "output_type": "display_data"
    }
   ],
   "source": [
    "import matplotlib.pyplot as plt\n",
    "\n",
    "plt.plot(results[:, 0], results[:, 1], marker='o')  # Use the first column for k, second for accuracy\n",
    "plt.xlabel('k (Number of Neighbors)')\n",
    "plt.ylabel('Accuracy')\n",
    "plt.title('Accuracy vs k in K-Nearest Neighbors')\n",
    "plt.grid(True)\n",
    "plt.show()"
   ]
  },
  {
   "cell_type": "markdown",
   "metadata": {
    "cell_marker": "\"\"\"",
    "editable": true,
    "slideshow": {
     "slide_type": ""
    },
    "tags": [
     "AST"
    ]
   },
   "source": [
    "### Problem 3.2: Validation"
   ]
  },
  {
   "cell_type": "markdown",
   "metadata": {
    "cell_marker": "\"\"\"",
    "editable": true,
    "slideshow": {
     "slide_type": ""
    },
    "tags": [
     "AST"
    ]
   },
   "source": [
    "### Problem 3.3: Testing"
   ]
  },
  {
   "cell_type": "markdown",
   "metadata": {
    "cell_marker": "\"\"\"",
    "editable": true,
    "slideshow": {
     "slide_type": ""
    },
    "tags": [
     "AST"
    ]
   },
   "source": [
    "### Problem 3.4: Analysis (Exam Style)"
   ]
  }
 ],
 "metadata": {
  "celltoolbar": "Tags",
  "jupytext": {
   "cell_markers": "\"\"\""
  },
  "kernelspec": {
   "display_name": "Python 3 (ipykernel)",
   "language": "python",
   "name": "python3"
  },
  "language_info": {
   "codemirror_mode": {
    "name": "ipython",
    "version": 3
   },
   "file_extension": ".py",
   "mimetype": "text/x-python",
   "name": "python",
   "nbconvert_exporter": "python",
   "pygments_lexer": "ipython3",
   "version": "3.12.4"
  },
  "pycharm": {
   "stem_cell": {
    "cell_type": "raw",
    "metadata": {
     "collapsed": false
    },
    "source": []
   }
  }
 },
 "nbformat": 4,
 "nbformat_minor": 4
}
